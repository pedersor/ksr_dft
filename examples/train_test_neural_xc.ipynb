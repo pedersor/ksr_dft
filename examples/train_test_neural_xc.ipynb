{
  "cells": [
    {
      "attachments": {},
      "cell_type": "markdown",
      "metadata": {},
      "source": [
        "<a href=\"https://colab.research.google.com/github/pedersor/ksr_dft/blob/main/examples/train_test_neural_xc.ipynb\" target=\"_parent\"><img src=\"https://colab.research.google.com/assets/colab-badge.svg\" alt=\"Open In Colab\"/></a>"
      ]
    },
    {
      "attachments": {},
      "cell_type": "markdown",
      "metadata": {
        "id": "rNhEG51NdptH"
      },
      "source": [
        "## Environment Setup\n",
        "\n",
        "Change to GPU runtime: Runtime -> Change runtime type -> Hardware accelerator -> GPU"
      ]
    },
    {
      "cell_type": "code",
      "execution_count": null,
      "metadata": {
        "id": "kPITNqd4bfvQ"
      },
      "outputs": [],
      "source": [
        "# Check cuda version\n",
        "! nvcc --version"
      ]
    },
    {
      "attachments": {},
      "cell_type": "markdown",
      "metadata": {
        "id": "k6SQkOTwbVuJ"
      },
      "source": [
        "The jaxlib version must correspond to the version of the existing CUDA installation you want to use, with e.g. `cuda111` for CUDA 11.1."
      ]
    },
    {
      "cell_type": "code",
      "execution_count": null,
      "metadata": {
        "id": "bxdUG_Z5bt3g"
      },
      "outputs": [],
      "source": [
        "# For GPU runtime\n",
        "! pip install --upgrade pip\n",
        "! pip install --upgrade jaxlib==0.1.72+cuda111 jax==0.2.19 -f https://storage.googleapis.com/jax-releases/jax_releases.html"
      ]
    },
    {
      "cell_type": "code",
      "execution_count": null,
      "metadata": {},
      "outputs": [],
      "source": [
        "# Install ksr-dft\n",
        "! git clone https://github.com/pedersor/ksr_dft.git\n",
        "! pip install ksr_dft"
      ]
    },
    {
      "attachments": {},
      "cell_type": "markdown",
      "metadata": {
        "id": "Q9mFqtv7ePb0"
      },
      "source": [
        "## Import and setup"
      ]
    },
    {
      "cell_type": "code",
      "execution_count": 1,
      "metadata": {
        "id": "XJwljOiIeaJO"
      },
      "outputs": [
        {
          "name": "stderr",
          "output_type": "stream",
          "text": [
            "WARNING:absl:No GPU/TPU found, falling back to CPU. (Set TF_CPP_MIN_LOG_LEVEL=0 and rerun for more info.)\n"
          ]
        }
      ],
      "source": [
        "import os\n",
        "from pathlib import Path\n",
        "\n",
        "import numpy as np\n",
        "import scipy\n",
        "import jax\n",
        "from jax import random\n",
        "from jax import tree_util\n",
        "from jax.config import config\n",
        "import jax.numpy as jnp\n",
        "\n",
        "from ksr_dft import datasets\n",
        "from ksr_dft import jit_scf\n",
        "from ksr_dft import losses\n",
        "from ksr_dft import neural_xc\n",
        "from ksr_dft import np_utils\n",
        "from ksr_dft import scf\n",
        "from ksr_dft import utils\n",
        "from ksr_dft import xc\n",
        "from ksr_dft import analysis\n",
        "from ksr_dft import ksr\n",
        "\n",
        "\n",
        "os.environ['XLA_FLAGS'] = '--xla_gpu_deterministic_reductions'\n",
        "# Set the default dtype as float64. Note: the dtype may switch from float64 to\n",
        "# float32 during e.g. evaluating/training a convolution neural net. \n",
        "config.update('jax_enable_x64', True)"
      ]
    },
    {
      "cell_type": "code",
      "execution_count": 2,
      "metadata": {},
      "outputs": [],
      "source": [
        "# get path to ksr_dft repo\n",
        "\n",
        "try:\n",
        "  import google.colab\n",
        "  # in Colab\n",
        "  KSR_DFT_PATH = Path('/content/ksr_dft/')\n",
        "except:\n",
        "  # running in local directory\n",
        "  KSR_DFT_PATH = Path('../')"
      ]
    },
    {
      "attachments": {},
      "cell_type": "markdown",
      "metadata": {},
      "source": [
        "# Load data"
      ]
    },
    {
      "cell_type": "code",
      "execution_count": 3,
      "metadata": {},
      "outputs": [],
      "source": [
        "# load atomic systems dataset\n",
        "ions_dataset = datasets.Dataset(KSR_DFT_PATH / 'data/ions/dmrg', num_grids=513)\n",
        "grids = ions_dataset.grids"
      ]
    },
    {
      "attachments": {},
      "cell_type": "markdown",
      "metadata": {},
      "source": [
        "# Train neural XC functional with Kohn-Sham regularizer (KSR)"
      ]
    },
    {
      "attachments": {},
      "cell_type": "markdown",
      "metadata": {},
      "source": [
        "![](../images/sksr_global.png)"
      ]
    },
    {
      "cell_type": "code",
      "execution_count": 4,
      "metadata": {},
      "outputs": [
        {
          "name": "stdout",
          "output_type": "stream",
          "text": [
            "number of parameters = 1559\n"
          ]
        }
      ],
      "source": [
        "trainer = ksr.SpinKSR(grids)\n",
        "\n",
        "# set ML model for xc functional\n",
        "model_dir = 'example_model/'\n",
        "if not os.path.exists(model_dir):\n",
        "  os.makedirs(model_dir)\n",
        "\n",
        "# sKSR-global architecture\n",
        "network = neural_xc.build_global_local_conv_net_sigma(\n",
        "    num_global_filters=8,\n",
        "    num_local_filters=16,\n",
        "    num_local_conv_layers=2,\n",
        "    activation='swish',\n",
        "    grids=grids,\n",
        "    minval=0.1,\n",
        "    maxval=2.385345,\n",
        "    downsample_factor=0,\n",
        ")\n",
        "init_fn, neural_xc_energy_density_fn = neural_xc.global_functional_sigma(\n",
        "    network, grids=grids)\n",
        "\n",
        "trainer.set_neural_xc_functional(\n",
        "    model_dir=model_dir,\n",
        "    neural_xc_energy_density_fn=neural_xc_energy_density_fn)\n",
        "\n",
        "# set initial params from init_fn\n",
        "key = jax.random.PRNGKey(0)\n",
        "trainer.set_init_model_params(init_fn, key, verbose=1)\n"
      ]
    },
    {
      "attachments": {},
      "cell_type": "markdown",
      "metadata": {},
      "source": [
        "Perform training with KSR"
      ]
    },
    {
      "attachments": {},
      "cell_type": "markdown",
      "metadata": {},
      "source": [
        "![](../images/ksr_training.png)"
      ]
    },
    {
      "attachments": {},
      "cell_type": "markdown",
      "metadata": {},
      "source": [
        "An example training and validation setup"
      ]
    },
    {
      "cell_type": "code",
      "execution_count": 6,
      "metadata": {},
      "outputs": [
        {
          "name": "stdout",
          "output_type": "stream",
          "text": [
            "step 0, loss 0.09861515938340477 in 11.513067960739136 sec\n",
            "Save checkpoint example_model/ckpt-00000\n",
            "step 1, loss 1.442739827756059 in 8.802721500396729 sec\n",
            "step 2, loss 0.037068105991058725 in 8.343472480773926 sec\n",
            "step 3, loss 340.5742439408714 in 9.519089221954346 sec\n",
            "step 4, loss 0.39850177330368053 in 15.811324834823608 sec\n",
            "step 5, loss 0.021798960984601184 in 10.997681617736816 sec\n",
            "step 6, loss 0.02006187254206401 in 8.182077169418335 sec\n",
            "step 7, loss 0.018118318559690837 in 11.46482801437378 sec\n",
            "step 8, loss 0.011008892682749773 in 14.184179067611694 sec\n",
            "step 9, loss 0.005906963491984608 in 9.66917896270752 sec\n",
            "step 10, loss 0.02167213475809317 in 10.073760032653809 sec\n",
            "Save checkpoint example_model/ckpt-00010\n",
            "step 11, loss 0.004731318145401553 in 8.258774280548096 sec\n",
            "step 12, loss 0.00366052146309549 in 9.099649429321289 sec\n",
            "step 13, loss 0.002392477519668301 in 11.310723781585693 sec\n",
            "step 14, loss 0.0011713020427699462 in 8.454338073730469 sec\n",
            "step 15, loss 0.0035007976936279905 in 8.996859550476074 sec\n",
            "step 16, loss 0.0004913460551573293 in 15.6777822971344 sec\n",
            "step 17, loss 0.00042275983428871616 in 10.827749252319336 sec\n",
            "step 18, loss 0.0001853240782037442 in 8.832222938537598 sec\n",
            "step 19, loss 0.00026972028444512163 in 7.779990196228027 sec\n",
            "step 20, loss 8.142748210250511e-05 in 9.497454166412354 sec\n",
            "Save checkpoint example_model/ckpt-00020\n",
            "Final loss = 8.142748210250511e-05\n",
            "Load example_model/ckpt-00000\n",
            "loss value = 0.18846923856466516\n",
            "Load example_model/ckpt-00010\n",
            "loss value = 0.21675190222791643\n",
            "Load example_model/ckpt-00020\n",
            "loss value = 0.014509154434430814\n",
            "optimal checkpoint: example_model/ckpt-00020\n",
            "optimal checkpoint loss: 0.014509154434430814\n",
            "Save example_model/optimal_ckpt.pkl\n"
          ]
        },
        {
          "data": {
            "text/plain": [
              "'example_model/optimal_ckpt.pkl'"
            ]
          },
          "execution_count": 6,
          "metadata": {},
          "output_type": "execute_result"
        }
      ],
      "source": [
        "\n",
        "# set KS parameters\n",
        "trainer.set_ks_params(\n",
        "    # num of KS iterations in training.\n",
        "    num_iterations=10,\n",
        "    # the density linear mixing factor.\n",
        "    alpha=0.5,\n",
        "    # decay factor of the density linear mixing factor.\n",
        "    alpha_decay=0.9,\n",
        "    # enforce reflection symmetry about the origin in the density.\n",
        "    # (helpful for convergence in applicable systems)\n",
        "    enforce_reflection_symmetry=False,\n",
        "    # linear mixing\n",
        "    num_mixing_iterations=1,\n",
        "    # The stopping criteria of Kohn-Sham iteration on density.\n",
        "    density_mse_converge_tolerance=-1.,\n",
        "    # Apply stop gradient on the output state of this step and all steps\n",
        "    # before. The first KS step is indexed as 0. Default -1, no stop gradient\n",
        "    # is applied.\n",
        "    stop_gradient_step=-1,\n",
        ")\n",
        "\n",
        "# set training set\n",
        "to_train = [(1, 1), (2, 2)]\n",
        "training_set = ions_dataset.get_ions(to_train)\n",
        "trainer.set_training_set(training_set)\n",
        "\n",
        "# setup parameters associated with the optimization\n",
        "trainer.setup_optimization(\n",
        "    # the initial checkpoint index to start training from.\n",
        "    initial_checkpoint_index=0,\n",
        "    # the frequency of saving checkpoints.\n",
        "    save_every_n=10,\n",
        "    max_train_steps=20,\n",
        "    # number of iterations skipped in energy loss evaluation,\n",
        "    # a value of -1 corresponds to using the final KS only.\n",
        "    num_skipped_energies=-1,\n",
        "    # can also modify energy vs density weight in loss function:\n",
        "    # energy_loss_weight=0.5,\n",
        ")\n",
        "\n",
        "# perform training optimization\n",
        "trainer.do_lbfgs_optimization(verbose=1)\n",
        "\n",
        "## Validate Ions\n",
        "\n",
        "# set validation set\n",
        "to_validate = [(3, 3)]\n",
        "validation_set = ions_dataset.get_ions(to_validate)\n",
        "trainer.set_validation_set(validation_set)\n",
        "# get optimal checkpoint from validation\n",
        "trainer.get_optimal_ckpt(model_dir)"
      ]
    },
    {
      "attachments": {},
      "cell_type": "markdown",
      "metadata": {},
      "source": [
        "## Obtain results from the paper "
      ]
    },
    {
      "attachments": {},
      "cell_type": "markdown",
      "metadata": {},
      "source": [
        "```\n",
        "\"How Well Does Kohn–Sham Regularizer Work for Weakly Correlated Systems?\"\n",
        "Bhupalee Kalita, Ryan Pederson, Jielun Chen, Li Li and Kieron Burke\n",
        "10.1021/acs.jpclett.2c00371\n",
        "```\n",
        "Models obtained from the training described in the paper can be found in `models/`. \n"
      ]
    },
    {
      "attachments": {},
      "cell_type": "markdown",
      "metadata": {},
      "source": [
        "Setup the models and KS calculation configuration."
      ]
    },
    {
      "cell_type": "code",
      "execution_count": 7,
      "metadata": {},
      "outputs": [
        {
          "data": {
            "text/plain": [
              "<ksr_dft.ksr.SpinKSR at 0x7fcc7c83a700>"
            ]
          },
          "execution_count": 7,
          "metadata": {},
          "output_type": "execute_result"
        }
      ],
      "source": [
        "# path/to/directory/of/model/optimal_ckpt.pkl\n",
        "model_dir = KSR_DFT_PATH / 'models/'\n",
        "params_path = model_dir / 'sksr_global_params.pkl'\n",
        "\n",
        "# get grids (same for all datasets)\n",
        "ion_dataset = datasets.Dataset(\n",
        "  KSR_DFT_PATH / 'data/ions/dmrg', num_grids=513)\n",
        "grids = ion_dataset.grids\n",
        "\n",
        "tester = ksr.SpinKSR(grids)\n",
        "\n",
        "# set KS parameters\n",
        "tester.set_ks_params(\n",
        "  num_iterations=30,\n",
        "  alpha=0.5,\n",
        "  alpha_decay=0.9,\n",
        "  enforce_reflection_symmetry=False,\n",
        "  num_mixing_iterations=1,\n",
        "  density_mse_converge_tolerance=-1.,\n",
        "  stop_gradient_step=-1)\n",
        "\n",
        "# global with spin\n",
        "network = neural_xc.build_global_local_conv_net_sigma(\n",
        "    num_global_filters=8,\n",
        "    num_local_filters=16,\n",
        "    num_local_conv_layers=2,\n",
        "    activation='swish',\n",
        "    grids=grids,\n",
        "    minval=0.1,\n",
        "    maxval=2.385345,\n",
        "    downsample_factor=0)\n",
        "_, neural_xc_energy_density_fn = neural_xc.global_functional_sigma(\n",
        "  network, grids=grids)\n",
        "\n",
        "\n",
        "tester.set_neural_xc_functional(model_dir=model_dir,\n",
        "  neural_xc_energy_density_fn=neural_xc_energy_density_fn)"
      ]
    },
    {
      "attachments": {},
      "cell_type": "markdown",
      "metadata": {},
      "source": [
        "Set the test sets"
      ]
    },
    {
      "cell_type": "code",
      "execution_count": 8,
      "metadata": {},
      "outputs": [],
      "source": [
        "# set ion test set\n",
        "ions_dataset = datasets.Dataset(\n",
        "  KSR_DFT_PATH / 'data/ions/dmrg', num_grids=513)\n",
        "tester.set_test_set(ions_dataset.get_ions())\n",
        "# load optimal checkpoint params and run test states\n",
        "ions_states = tester.get_test_states(\n",
        "  optimal_ckpt_path=params_path)\n",
        "ions_final_states = tester.get_final_states(ions_states)\n",
        "\n",
        "\n",
        "# set molecules test set\n",
        "molecules_dataset = datasets.Dataset(\n",
        "  KSR_DFT_PATH / 'data/molecules/relaxed_all', num_grids=513)\n",
        "tester.set_test_set(molecules_dataset.get_molecules())\n",
        "# load optimal checkpoint params and run test states\n",
        "molecules_states = tester.get_test_states(\n",
        "  optimal_ckpt_path=params_path)\n",
        "molecules_final_states = tester.get_final_states(molecules_states)"
      ]
    },
    {
      "attachments": {},
      "cell_type": "markdown",
      "metadata": {},
      "source": [
        "Build latex table of ionization potential (IP) energy errors over ions."
      ]
    },
    {
      "cell_type": "code",
      "execution_count": 9,
      "metadata": {},
      "outputs": [
        {
          "name": "stdout",
          "output_type": "stream",
          "text": [
            "H & 0.6692 (-0.0008) \\\\\n",
            "\\hline\n",
            "He$^+$ & 1.4830 (0.0001) \\\\\n",
            "\\hline\n",
            "Li$^{++}$ & 2.3356 (0.0006) \\\\\n",
            "\\hline\n",
            "Be$^{3+}$ & 3.2103 (0.0010) \\\\\n",
            "\\hline\n",
            "He & 0.7555 (0.0006) \\\\\n",
            "\\hline\n",
            "Li$^+$ & 1.5575 (-0.0010) \\\\\n",
            "\\hline\n",
            "Be$^{++}$ & 2.4028 (-0.0014) \\\\\n",
            "\\hline\n",
            "Li & 0.3256 (0.0028) \\\\\n",
            "\\hline\n",
            "Be$^+$ & 0.8463 (0.0005) \\\\\n",
            "\\hline\n",
            "Be & 0.3501 (-0.0012) \\\\\n",
            "\\hline\n",
            "\\hline\n",
            "mean error & 0.0001 \\\\\n",
            "\\hline\n",
            "MAE & 0.0010 \\\\\n",
            "\\hline\n"
          ]
        }
      ],
      "source": [
        "table_print = analysis.table_print\n",
        "ip_avg_err, ip_mae = analysis.get_ip_table(ions_dataset, ions_final_states)\n",
        "\n",
        "print('\\hline')\n",
        "table_print('mean error')\n",
        "table_print(ip_avg_err, last_in_row=True)\n",
        "table_print('MAE')\n",
        "table_print(ip_mae, last_in_row=True)"
      ]
    },
    {
      "attachments": {},
      "cell_type": "markdown",
      "metadata": {},
      "source": [
        "Build latex table of atomization energies (AE) over all bound molecules (at equilibrium) in the dataset."
      ]
    },
    {
      "cell_type": "code",
      "execution_count": 10,
      "metadata": {},
      "outputs": [
        {
          "name": "stdout",
          "output_type": "stream",
          "text": [
            "(He-H-H-He)$^{2+}$ & 0.1636 (-0.0022) \\\\\n",
            "\\hline\n",
            "(He-H)$^{+}$ & 0.1602 (0.0009) \\\\\n",
            "\\hline\n",
            "H$_4$ & 0.1609 (0.0005) \\\\\n",
            "\\hline\n",
            "H$_3$ & 0.0950 (0.0061) \\\\\n",
            "\\hline\n",
            "H$_2$ & 0.1030 (0.0024) \\\\\n",
            "\\hline\n",
            "H$_3^{+}$ & 0.2848 (0.0021) \\\\\n",
            "\\hline\n",
            "(H-He-He-H)$^{2+}$ & 0.1828 (-0.0068) \\\\\n",
            "\\hline\n",
            "H-Be-H & 0.0777 (0.0079) \\\\\n",
            "\\hline\n",
            "Li-H & 0.0645 (0.0029) \\\\\n",
            "\\hline\n",
            "H$_2^+$ & 0.1393 (0.0028) \\\\\n",
            "\\hline\n",
            "\\hline\n",
            "mean error & 0.0017 \\\\\n",
            "\\hline\n",
            "MAE & 0.0035 \\\\\n",
            "\\hline\n"
          ]
        }
      ],
      "source": [
        "ae_avg_err, ae_mae = analysis.get_ae_table(molecules_final_states, molecules_dataset, ions_dataset, ions_final_states)\n",
        "\n",
        "print('\\hline')\n",
        "table_print('mean error')\n",
        "table_print(ae_avg_err, last_in_row=True)\n",
        "table_print('MAE')\n",
        "table_print(ae_mae, last_in_row=True)"
      ]
    },
    {
      "attachments": {},
      "cell_type": "markdown",
      "metadata": {},
      "source": [
        "Total energy and density errors across all systems in the dataset."
      ]
    },
    {
      "cell_type": "code",
      "execution_count": 11,
      "metadata": {},
      "outputs": [
        {
          "name": "stdout",
          "output_type": "stream",
          "text": [
            "H & -0.6692 (0.0008) & 3.4e-05 \\\\\n",
            "\\hline\n",
            "He$^+$ & -1.4830 (-0.0001) & 1.7e-05 \\\\\n",
            "\\hline\n",
            "Li$^{++}$ & -2.3356 (-0.0006) & 1.1e-05 \\\\\n",
            "\\hline\n",
            "Be$^{3+}$ & -3.2103 (-0.0010) & 8.0e-06 \\\\\n",
            "\\hline\n",
            "He & -2.2385 (-0.0007) & 3.3e-06 \\\\\n",
            "\\hline\n",
            "Li$^+$ & -3.8930 (0.0004) & 3.9e-06 \\\\\n",
            "\\hline\n",
            "Be$^{++}$ & -5.6131 (0.0004) & 2.4e-06 \\\\\n",
            "\\hline\n",
            "Li & -4.2186 (-0.0024) & 1.2e-05 \\\\\n",
            "\\hline\n",
            "Be$^+$ & -6.4594 (-0.0001) & 3.4e-06 \\\\\n",
            "\\hline\n",
            "Be & -6.8094 (0.0012) & 7.4e-06 \\\\\n",
            "\\hline\n",
            "(He-H-H-He)$^{2+}$ & -7.1442 (0.0008) & 5.5e-04 \\\\\n",
            "\\hline\n",
            "(He-H)$^{+}$ & -3.2650 (-0.0016) & 1.3e-05 \\\\\n",
            "\\hline\n",
            "H$_4$ & -4.7143 (0.0029) & 1.5e-04 \\\\\n",
            "\\hline\n",
            "H$_3$ & -3.1856 (-0.0036) & 3.2e-04 \\\\\n",
            "\\hline\n",
            "H$_2$ & -2.0079 (-0.0007) & 7.2e-06 \\\\\n",
            "\\hline\n",
            "H$_3^{+}$ & -2.8926 (-0.0004) & 4.7e-05 \\\\\n",
            "\\hline\n",
            "(H-He-He-H)$^{2+}$ & -7.3112 (0.0054) & 4.5e-04 \\\\\n",
            "\\hline\n",
            "H-Be-H & -10.2408 (-0.0051) & 1.3e-04 \\\\\n",
            "\\hline\n",
            "Li-H & -5.7925 (-0.0044) & 6.5e-05 \\\\\n",
            "\\hline\n",
            "H$_2^+$ & -1.1872 (-0.0019) & 1.0e-04 \\\\\n",
            "\\hline\n",
            "\\hline\n",
            "mean error & -0.0005 &  \\\\\n",
            "\\hline\n",
            "MAE & 0.0017 & 9.7e-05 \\\\\n",
            "\\hline\n"
          ]
        }
      ],
      "source": [
        "# total energy error\n",
        "# all binded ions/molecules in dataset\n",
        "\n",
        "ions_energy_error, ions_abs_energy_error, ions_density_loss = analysis.get_error_table(ions_dataset, ions_final_states)\n",
        "molecules_energy_error, molecules_abs_energy_error, molecules_density_loss = analysis.get_error_table(molecules_dataset, molecules_final_states)\n",
        "\n",
        "energy_error = np.concatenate((ions_energy_error, molecules_energy_error))\n",
        "abs_energy_error = np.concatenate((ions_abs_energy_error, molecules_abs_energy_error))\n",
        "density_loss = np.concatenate((ions_density_loss, molecules_density_loss))\n",
        "\n",
        "mean_energy_error = np.mean(energy_error)\n",
        "mae_energy_error = np.mean(abs_energy_error)\n",
        "mean_density_loss = np.mean(density_loss)\n",
        "\n",
        "print('\\hline')\n",
        "table_print('mean error')\n",
        "table_print(mean_energy_error)\n",
        "table_print('', last_in_row=True)\n",
        "table_print('MAE')\n",
        "table_print(mae_energy_error)\n",
        "table_print(analysis.scientific_round_to_print(mean_density_loss), last_in_row=True)  "
      ]
    },
    {
      "attachments": {},
      "cell_type": "markdown",
      "metadata": {},
      "source": [
        "# Test individual dissociation curves"
      ]
    },
    {
      "cell_type": "code",
      "execution_count": 12,
      "metadata": {},
      "outputs": [
        {
          "data": {
            "text/plain": [
              "<ksr_dft.ksr.SpinKSR at 0x7fcc012226d0>"
            ]
          },
          "execution_count": 12,
          "metadata": {},
          "output_type": "execute_result"
        }
      ],
      "source": [
        "# path/to/directory/of/model/optimal_ckpt.pkl\n",
        "model_dir = KSR_DFT_PATH / 'models/'\n",
        "params_path = model_dir / 'sksr_global_params.pkl'\n",
        "\n",
        "mol = 'h2'\n",
        "dissoc_dir = KSR_DFT_PATH / f'data/molecules/{mol}'\n",
        "\n",
        "dissoc_dataset = datasets.Dataset(dissoc_dir, num_grids=513)\n",
        "dissoc_dataset = dissoc_dataset.get_subdataset(downsample_step=2)\n",
        "\n",
        "# use ksr.PureKSR if unrestricted (runs faster)\n",
        "tester = ksr.SpinKSR(dissoc_dataset.grids)\n",
        "\n",
        "# set molecules test set\n",
        "tester.set_test_set(dissoc_dataset.get_molecules())\n",
        "\n",
        "# increase ks iterations for testing..\n",
        "tester.set_ks_params(\n",
        "  num_iterations=20,\n",
        "  alpha=0.5,\n",
        "  alpha_decay=0.9,\n",
        "  enforce_reflection_symmetry=True,\n",
        "  num_mixing_iterations=1,\n",
        "  density_mse_converge_tolerance=-1,\n",
        "  stop_gradient_step=-1,\n",
        ")\n",
        "\n",
        "# set ML model for xc functional\n",
        "network = neural_xc.build_global_local_conv_net_sigma(num_global_filters=8,\n",
        "  num_local_filters=16, num_local_conv_layers=2, activation='swish',\n",
        "  grids=dissoc_dataset.grids, minval=0.1, maxval=2.385345,\n",
        "  downsample_factor=0)\n",
        "init_fn, neural_xc_energy_density_fn = neural_xc.global_functional_sigma(\n",
        "  network, grids=dissoc_dataset.grids)\n",
        "\n",
        "tester.set_neural_xc_functional(model_dir=model_dir,\n",
        "  neural_xc_energy_density_fn=neural_xc_energy_density_fn)"
      ]
    },
    {
      "cell_type": "code",
      "execution_count": 13,
      "metadata": {},
      "outputs": [],
      "source": [
        "# load optimal checkpoint params and run test states\n",
        "states = tester.get_test_states(\n",
        "  optimal_ckpt_path=params_path)\n",
        "final_states = tester.get_final_states(states)"
      ]
    },
    {
      "attachments": {},
      "cell_type": "markdown",
      "metadata": {},
      "source": [
        "Plot the H2 dissociation energy curve"
      ]
    },
    {
      "cell_type": "code",
      "execution_count": 14,
      "metadata": {},
      "outputs": [
        {
          "data": {
            "image/png": "[encoded data removed]",
            "text/plain": [
              "<Figure size 640x480 with 1 Axes>"
            ]
          },
          "metadata": {},
          "output_type": "display_data"
        }
      ],
      "source": [
        "import matplotlib.pyplot as plt\n",
        "\n",
        "nuclear_energy = utils.get_nuclear_interaction_energy_batch(\n",
        "    dissoc_dataset.locations,\n",
        "    dissoc_dataset.nuclear_charges,\n",
        "    interaction_fn=utils.exponential_coulomb)\n",
        "\n",
        "distances = utils.compute_distances_between_nuclei(dissoc_dataset.locations, \n",
        "  [0,1])\n",
        "\n",
        "plt.plot(distances, final_states.total_energy + nuclear_energy, \n",
        "  label='KSR-global')\n",
        "plt.plot(distances, dissoc_dataset.total_energies + nuclear_energy, 'k--', \n",
        "  label='exact')\n",
        "\n",
        "plt.xlabel('$R$', fontsize=16)\n",
        "plt.ylabel('$E$', fontsize=16)\n",
        "plt.legend()\n",
        "plt.grid(alpha=0.4)\n",
        "\n",
        "fig_pdf_name = 'h2_dissoc'\n",
        "plt.savefig(f'{fig_pdf_name}.pdf', bbox_inches='tight')"
      ]
    },
    {
      "attachments": {},
      "cell_type": "markdown",
      "metadata": {},
      "source": [
        "Plot a select density"
      ]
    },
    {
      "cell_type": "code",
      "execution_count": 15,
      "metadata": {},
      "outputs": [
        {
          "name": "stdout",
          "output_type": "stream",
          "text": [
            "R = 4.96\n"
          ]
        },
        {
          "data": {
            "image/png": "[encoded data removed]",
            "text/plain": [
              "<Figure size 640x480 with 1 Axes>"
            ]
          },
          "metadata": {},
          "output_type": "display_data"
        }
      ],
      "source": [
        "separation = 5.0 \n",
        "atol = utils.get_dx(dissoc_dataset.grids) / 2\n",
        "separation_idx = np.where(np.isclose(separation, distances, atol=atol))[0][0]\n",
        "separation = distances[separation_idx]\n",
        "\n",
        "plt.plot(dissoc_dataset.grids, final_states.density[separation_idx], \n",
        "  label='KSR-global')\n",
        "plt.plot(dissoc_dataset.grids, dissoc_dataset.densities[separation_idx], 'k--', \n",
        "  label='exact')\n",
        "\n",
        "plt.xlabel('$x$', fontsize=16)\n",
        "plt.ylabel('$n(x)$', fontsize=16)\n",
        "plt.legend()\n",
        "plt.grid(alpha=0.4)\n",
        "\n",
        "print(f'R = {separation}')\n",
        "fig_pdf_name = 'h2_select_density'\n",
        "plt.savefig(f'{fig_pdf_name}.pdf', bbox_inches='tight')"
      ]
    }
  ],
  "metadata": {
    "accelerator": "GPU",
    "colab": {
      "collapsed_sections": [],
      "machine_shape": "hm",
      "name": "general_tester.ipynb",
      "provenance": [],
      "toc_visible": true
    },
    "kernelspec": {
      "display_name": "venv",
      "language": "python",
      "name": "python3"
    },
    "language_info": {
      "codemirror_mode": {
        "name": "ipython",
        "version": 3
      },
      "file_extension": ".py",
      "mimetype": "text/x-python",
      "name": "python",
      "nbconvert_exporter": "python",
      "pygments_lexer": "ipython3",
      "version": "3.8.0"
    },
    "vscode": {
      "interpreter": {
        "hash": "139bc12e35f8c2f7bc43704bf075b93bfe0a254d67539bd63d68d0283bbc44e8"
      }
    }
  },
  "nbformat": 4,
  "nbformat_minor": 0
}
