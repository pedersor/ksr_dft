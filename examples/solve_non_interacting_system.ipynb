{
  "cells": [
    {
      "attachments": {},
      "cell_type": "markdown",
      "metadata": {
        "colab_type": "text",
        "id": "view-in-github"
      },
      "source": [
        "<a href=\"https://colab.research.google.com/github/pedersor/ksr_dft/examples/solve_non_interacting_system.ipynb\" target=\"_parent\"><img src=\"https://colab.research.google.com/assets/colab-badge.svg\" alt=\"Open In Colab\"/></a>"
      ]
    },
    {
      "attachments": {},
      "cell_type": "markdown",
      "metadata": {
        "id": "JndnmDMp66FL"
      },
      "source": [
        "##### Copyright 2023 Google LLC.\n",
        "\n",
        "Licensed under the Apache License, Version 2.0 (the \"License\");"
      ]
    },
    {
      "cell_type": "code",
      "execution_count": null,
      "metadata": {
        "cellView": "both",
        "id": "hMqWDc_m6rUC"
      },
      "outputs": [],
      "source": [
        "#@title Default title text\n",
        "# Licensed under the Apache License, Version 2.0 (the \"License\");\n",
        "# you may not use this file except in compliance with the License.\n",
        "# You may obtain a copy of the License at\n",
        "#\n",
        "# https://www.apache.org/licenses/LICENSE-2.0\n",
        "#\n",
        "# Unless required by applicable law or agreed to in writing, software\n",
        "# distributed under the License is distributed on an \"AS IS\" BASIS,\n",
        "# WITHOUT WARRANTIES OR CONDITIONS OF ANY KIND, either express or implied.\n",
        "# See the License for the specific language governing permissions and\n",
        "# limitations under the License."
      ]
    },
    {
      "attachments": {},
      "cell_type": "markdown",
      "metadata": {
        "id": "29bi9k9toyk3"
      },
      "source": [
        "# Setup\n",
        "\n",
        "Change to GPU runtime: Runtime -> Change runtime type -> Hardware accelerator -> GPU"
      ]
    },
    {
      "cell_type": "code",
      "execution_count": null,
      "metadata": {
        "id": "sKBGRy5foj-u"
      },
      "outputs": [],
      "source": [
        "# Check cuda version\n",
        "! nvcc --version"
      ]
    },
    {
      "cell_type": "markdown",
      "metadata": {},
      "source": [
        "The jaxlib version must correspond to the version of the existing CUDA installation you want to use, with e.g. `cuda111` for CUDA 11.1."
      ]
    },
    {
      "cell_type": "code",
      "execution_count": null,
      "metadata": {},
      "outputs": [],
      "source": [
        "# For GPU runtime\n",
        "! pip install --upgrade pip\n",
        "! pip install --upgrade jaxlib==0.1.72+cuda111 jax==0.2.19 -f https://storage.googleapis.com/jax-releases/jax_releases.html"
      ]
    },
    {
      "cell_type": "code",
      "execution_count": null,
      "metadata": {},
      "outputs": [],
      "source": [
        "# Install ksr-dft\n",
        "! git clone https://github.com/pedersor/ksr_dft.git\n",
        "! pip install ksr_dft"
      ]
    },
    {
      "cell_type": "markdown",
      "metadata": {
        "id": "W5jsY3FZrSCZ"
      },
      "source": [
        "# Import"
      ]
    },
    {
      "cell_type": "code",
      "execution_count": 2,
      "metadata": {
        "id": "XKioKmifrJb4"
      },
      "outputs": [],
      "source": [
        "import jax\n",
        "from jax.config import config\n",
        "import matplotlib.pyplot as plt\n",
        "import numpy as np\n",
        "\n",
        "from ksr_dft import scf\n",
        "from ksr_dft import utils\n",
        "\n",
        "# Set the default dtype as float64\n",
        "config.update('jax_enable_x64', True)"
      ]
    },
    {
      "cell_type": "code",
      "execution_count": 3,
      "metadata": {
        "id": "omW3f63atHYk"
      },
      "outputs": [
        {
          "name": "stderr",
          "output_type": "stream",
          "text": [
            "WARNING:absl:No GPU/TPU found, falling back to CPU. (Set TF_CPP_MIN_LOG_LEVEL=0 and rerun for more info.)\n"
          ]
        },
        {
          "name": "stdout",
          "output_type": "stream",
          "text": [
            "JAX devices: [<jaxlib.xla_extension.Device object at 0x7f17469c39f0>]\n"
          ]
        }
      ],
      "source": [
        "print(f'JAX devices: {jax.devices()}')"
      ]
    },
    {
      "cell_type": "markdown",
      "metadata": {
        "id": "GbVORinfrVoK"
      },
      "source": [
        "# Run"
      ]
    },
    {
      "cell_type": "code",
      "execution_count": 4,
      "metadata": {
        "colab": {
          "base_uri": "https://localhost:8080/",
          "height": 282
        },
        "id": "lpRJfeRorUD_",
        "outputId": "d4f5cb10-03a5-4e68-bdc4-a7f795918ce7"
      },
      "outputs": [
        {
          "name": "stdout",
          "output_type": "stream",
          "text": [
            "total energy: -2.650539439312911\n"
          ]
        },
        {
          "data": {
            "image/png": "[encoded data removed]",
            "text/plain": [
              "<Figure size 640x480 with 1 Axes>"
            ]
          },
          "metadata": {},
          "output_type": "display_data"
        }
      ],
      "source": [
        "num_electrons = 2 # @param{'type': 'integer'}\n",
        "\n",
        "grids = np.arange(-256, 257) * 0.08\n",
        "external_potential = utils.get_atomic_chain_potential(\n",
        "    grids=grids,\n",
        "    locations=np.array([-0.8, 0.8]),\n",
        "    nuclear_charges=np.array([1., 1.]),\n",
        "    interaction_fn=utils.exponential_coulomb)\n",
        "\n",
        "density, total_eigen_energies, _ = scf.solve_noninteracting_system(\n",
        "    external_potential, num_electrons=num_electrons, grids=grids)\n",
        "\n",
        "print(f'total energy: {total_eigen_energies}')\n",
        "plt.plot(grids, density, label='density')\n",
        "plt.plot(grids, external_potential, label='potential')\n",
        "plt.legend(loc=0)\n",
        "plt.show()"
      ]
    }
  ],
  "metadata": {
    "colab": {
      "collapsed_sections": [
        "JndnmDMp66FL"
      ],
      "name": "solve_non_interacting_system",
      "provenance": []
    },
    "kernelspec": {
      "display_name": "Python 3",
      "name": "python3"
    },
    "language_info": {
      "codemirror_mode": {
        "name": "ipython",
        "version": 3
      },
      "file_extension": ".py",
      "mimetype": "text/x-python",
      "name": "python",
      "nbconvert_exporter": "python",
      "pygments_lexer": "ipython3",
      "version": "3.8.0"
    }
  },
  "nbformat": 4,
  "nbformat_minor": 0
}
