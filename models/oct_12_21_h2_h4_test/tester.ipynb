{
 "cells": [
  {
   "cell_type": "code",
   "execution_count": 1,
   "metadata": {},
   "outputs": [
    {
     "name": "stderr",
     "output_type": "stream",
     "text": [
      "WARNING:absl:No GPU/TPU found, falling back to CPU. (Set TF_CPP_MIN_LOG_LEVEL=0 and rerun for more info.)\n"
     ]
    }
   ],
   "source": [
    "import os\n",
    "os.environ['XLA_FLAGS'] = '--xla_gpu_deterministic_reductions'\n",
    "import pathlib\n",
    "\n",
    "import numpy as np\n",
    "from jax.config import config \n",
    "\n",
    "from jax_dft import neural_xc\n",
    "from jax_dft import datasets\n",
    "from jax_dft import utils\n",
    "\n",
    "from ks_regularizer import analysis\n",
    "from ks_regularizer import ksr\n",
    "\n",
    "# Set the default dtype as float64. Note: the dtype may switch from float64 to\n",
    "# float32 during e.g. evaluating/training a convolution neural net. This can \n",
    "# give rise to slight numerical issues and hence slight reproducibility issues. \n",
    "config.update('jax_enable_x64', True)"
   ]
  },
  {
   "cell_type": "code",
   "execution_count": 3,
   "metadata": {},
   "outputs": [
    {
     "data": {
      "text/plain": [
       "<ks_regularizer.ksr.SpinKSR at 0x7fe63830aca0>"
      ]
     },
     "execution_count": 3,
     "metadata": {},
     "output_type": "execute_result"
    }
   ],
   "source": [
    "# path/to/directory/of/model/optimal_ckpt.pkl\n",
    "model_dir = ''\n",
    "\n",
    "mol = 'h2'\n",
    "dissoc_dir = pathlib.Path('../../data/molecules') / mol\n",
    "\n",
    "dissoc_dataset = datasets.Dataset(dissoc_dir, num_grids=513)\n",
    "dissoc_dataset = dissoc_dataset.get_subdataset(downsample_step=2)\n",
    "grids = dissoc_dataset.grids\n",
    "\n",
    "# use ksr.PureKSR if unrestricted (runs faster)\n",
    "sKSR = ksr.SpinKSR(grids)\n",
    "\n",
    "# set molecules test set\n",
    "sKSR.set_test_set(dissoc_dataset.get_molecules())\n",
    "\n",
    "# increase ks iterations for testing..\n",
    "sKSR.set_ks_params(\n",
    "  # The number of Kohn-Sham iterations in training.\n",
    "  num_iterations=40,\n",
    "  # The density linear mixing factor.\n",
    "  alpha=0.5,\n",
    "  # Decay factor of density linear mixing factor.\n",
    "  alpha_decay=0.9,\n",
    "  # Enforce reflection symmetry across the origin. Note: currently not supported\n",
    "  # in unrestricted KS.\n",
    "  enforce_reflection_symmetry=True,\n",
    "  # The number of density differences in the previous iterations to mix the\n",
    "  # density. Linear mixing is num_mixing_iterations = 1.\n",
    "  num_mixing_iterations=1,\n",
    "  # The stopping criteria of Kohn-Sham iteration on density.\n",
    "  density_mse_converge_tolerance=-1,\n",
    "  # Apply stop gradient on the output state of this step and all steps\n",
    "  # before. The first KS step is indexed as 0. Default -1, no stop gradient\n",
    "  # is applied.\n",
    "  stop_gradient_step=-1,\n",
    ")\n",
    "\n",
    "# set ML model for xc functional\n",
    "network = neural_xc.build_global_local_conv_net_sigma(num_global_filters=8,\n",
    "  num_local_filters=16, num_local_conv_layers=2, activation='swish',\n",
    "  grids=grids, minval=0.1, maxval=2.385345,\n",
    "  downsample_factor=0)\n",
    "\n",
    "network = neural_xc.wrap_network_with_self_interaction_layer_sigma(\n",
    "    network, grids=grids,\n",
    "    interaction_fn=utils.exponential_coulomb) \n",
    " \n",
    "init_fn, neural_xc_energy_density_fn = neural_xc.global_functional_sigma(\n",
    "  network, grids=grids)\n",
    "\n",
    "sKSR.set_neural_xc_functional(model_dir=model_dir,\n",
    "  neural_xc_energy_density_fn=neural_xc_energy_density_fn)\n"
   ]
  },
  {
   "cell_type": "code",
   "execution_count": 4,
   "metadata": {},
   "outputs": [],
   "source": [
    "# load optimal checkpoint params and run test states\n",
    "states = sKSR.get_test_states(\n",
    "  optimal_ckpt_path=os.path.join(model_dir, 'optimal_ckpt.pkl'))\n",
    "final_states = sKSR.get_final_states(states)"
   ]
  },
  {
   "cell_type": "code",
   "execution_count": null,
   "metadata": {},
   "outputs": [],
   "source": [
    "# Plot dissociation energy curve\n",
    "import matplotlib.pyplot as plt\n",
    "\n",
    "nuclear_energy = utils.get_nuclear_interaction_energy_batch(\n",
    "    dissoc_dataset.locations,\n",
    "    dissoc_dataset.nuclear_charges,\n",
    "    interaction_fn=utils.exponential_coulomb)\n",
    "\n",
    "distances = utils.compute_distances_between_nuclei(dissoc_dataset.locations, \n",
    "  [0,1])\n",
    "\n",
    "plt.plot(distances, final_states.total_energy + nuclear_energy, \n",
    "  label='KSR-global')\n",
    "plt.plot(distances, dissoc_dataset.total_energies + nuclear_energy, 'k--', \n",
    "  label='exact')\n",
    "\n",
    "plt.xlabel('$R$', fontsize=16)\n",
    "plt.ylabel('$E$', fontsize=16)\n",
    "plt.legend()\n",
    "plt.grid(alpha=0.4)\n",
    "\n",
    "fig_pdf_name = 'h2_dissoc'\n",
    "plt.savefig(f'{fig_pdf_name}.pdf', bbox_inches='tight')"
   ]
  }
 ],
 "metadata": {
  "interpreter": {
   "hash": "ed8b7a015eb0f323034dfe2bc3b6d27ec6bb62ab54ae97378e901d551f3e8503"
  },
  "kernelspec": {
   "display_name": "Python 3.8.10 64-bit ('venv_ksr': venv)",
   "name": "python3"
  },
  "language_info": {
   "codemirror_mode": {
    "name": "ipython",
    "version": 3
   },
   "file_extension": ".py",
   "mimetype": "text/x-python",
   "name": "python",
   "nbconvert_exporter": "python",
   "pygments_lexer": "ipython3",
   "version": "3.8.10"
  },
  "orig_nbformat": 4
 },
 "nbformat": 4,
 "nbformat_minor": 2
}
